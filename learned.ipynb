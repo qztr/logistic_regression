{
 "cells": [
  {
   "cell_type": "code",
   "execution_count": 361,
   "metadata": {
    "collapsed": true
   },
   "outputs": [
    {
     "data": {
      "text/html": [
       "<div>\n",
       "<style scoped>\n",
       "    .dataframe tbody tr th:only-of-type {\n",
       "        vertical-align: middle;\n",
       "    }\n",
       "\n",
       "    .dataframe tbody tr th {\n",
       "        vertical-align: top;\n",
       "    }\n",
       "\n",
       "    .dataframe thead th {\n",
       "        text-align: right;\n",
       "    }\n",
       "</style>\n",
       "<table border=\"1\" class=\"dataframe\">\n",
       "  <thead>\n",
       "    <tr style=\"text-align: right;\">\n",
       "      <th></th>\n",
       "      <th>Reason</th>\n",
       "      <th>Gender</th>\n",
       "      <th>Age</th>\n",
       "      <th>1obility</th>\n",
       "      <th>Distance</th>\n",
       "      <th>Participation</th>\n",
       "    </tr>\n",
       "  </thead>\n",
       "  <tbody>\n",
       "    <tr>\n",
       "      <td>0</td>\n",
       "      <td>Hospital readmission</td>\n",
       "      <td>1</td>\n",
       "      <td>61.3</td>\n",
       "      <td>0</td>\n",
       "      <td>68.7</td>\n",
       "      <td>0</td>\n",
       "    </tr>\n",
       "    <tr>\n",
       "      <td>1</td>\n",
       "      <td>Hospital readmission</td>\n",
       "      <td>1</td>\n",
       "      <td>85.8</td>\n",
       "      <td>1</td>\n",
       "      <td>86.3</td>\n",
       "      <td>0</td>\n",
       "    </tr>\n",
       "    <tr>\n",
       "      <td>2</td>\n",
       "      <td>Hospital readmission</td>\n",
       "      <td>0</td>\n",
       "      <td>65.0</td>\n",
       "      <td>0</td>\n",
       "      <td>46.2</td>\n",
       "      <td>1</td>\n",
       "    </tr>\n",
       "    <tr>\n",
       "      <td>3</td>\n",
       "      <td>Hospital readmission</td>\n",
       "      <td>0</td>\n",
       "      <td>72.5</td>\n",
       "      <td>0</td>\n",
       "      <td>39.7</td>\n",
       "      <td>0</td>\n",
       "    </tr>\n",
       "    <tr>\n",
       "      <td>4</td>\n",
       "      <td>Hospital readmission</td>\n",
       "      <td>1</td>\n",
       "      <td>93.0</td>\n",
       "      <td>0</td>\n",
       "      <td>73.3</td>\n",
       "      <td>0</td>\n",
       "    </tr>\n",
       "  </tbody>\n",
       "</table>\n",
       "</div>"
      ],
      "text/plain": [
       "                 Reason  Gender   Age  1obility  Distance  Participation\n",
       "0  Hospital readmission       1  61.3         0      68.7              0\n",
       "1  Hospital readmission       1  85.8         1      86.3              0\n",
       "2  Hospital readmission       0  65.0         0      46.2              1\n",
       "3  Hospital readmission       0  72.5         0      39.7              0\n",
       "4  Hospital readmission       1  93.0         0      73.3              0"
      ]
     },
     "execution_count": 361,
     "metadata": {},
     "output_type": "execute_result"
    }
   ],
   "source": [
    "import keras\n",
    "import pandas as nd\n",
    "from keras.datasets import boston_housing\n",
    "from keras.models import Sequential\n",
    "from keras.layers import Dense\n",
    "import pandas as pd\n",
    "\n",
    "dataset = pd.read_csv(\"data_0.csv\", delimiter =\";\")\n",
    "dataset.head()\n"
   ]
  },
  {
   "cell_type": "code",
   "execution_count": 371,
   "metadata": {},
   "outputs": [],
   "source": [
    "#complaints['Complaint Type'][:5]\n",
    "#ds = dataset[['Gender','Age','1obility','Distance','Participation']]\n",
    "param = dataset[['Gender','Age','1obility','Distance']]\n",
    "targ = dataset['Participation']\n"
   ]
  },
  {
   "cell_type": "code",
   "execution_count": 372,
   "metadata": {},
   "outputs": [],
   "source": [
    "x_train = param[0:250]\n",
    "x_test = param[250:500]\n",
    "y_train = targ[0:250]\n",
    "y_test = targ[250:500]"
   ]
  },
  {
   "cell_type": "code",
   "execution_count": 385,
   "metadata": {},
   "outputs": [],
   "source": [
    "# Среднее значение\n",
    "mean = x_train.mean(axis=0)\n",
    "# Стандартное отклонение\n",
    "std = x_train.std(axis=0)\n",
    "x_train -= mean\n",
    "x_train /= std\n",
    "mean = x_test.mean(axis=0)\n",
    "# Стандартное отклонение\n",
    "std = x_test.std(axis=0)\n",
    "x_test -= mean\n",
    "x_test /= std"
   ]
  },
  {
   "cell_type": "code",
   "execution_count": 386,
   "metadata": {},
   "outputs": [
    {
     "data": {
      "text/html": [
       "<div>\n",
       "<style scoped>\n",
       "    .dataframe tbody tr th:only-of-type {\n",
       "        vertical-align: middle;\n",
       "    }\n",
       "\n",
       "    .dataframe tbody tr th {\n",
       "        vertical-align: top;\n",
       "    }\n",
       "\n",
       "    .dataframe thead th {\n",
       "        text-align: right;\n",
       "    }\n",
       "</style>\n",
       "<table border=\"1\" class=\"dataframe\">\n",
       "  <thead>\n",
       "    <tr style=\"text-align: right;\">\n",
       "      <th></th>\n",
       "      <th>Gender</th>\n",
       "      <th>Age</th>\n",
       "      <th>1obility</th>\n",
       "      <th>Distance</th>\n",
       "    </tr>\n",
       "  </thead>\n",
       "  <tbody>\n",
       "    <tr>\n",
       "      <td>0</td>\n",
       "      <td>0.951190</td>\n",
       "      <td>-0.321495</td>\n",
       "      <td>-1.014096</td>\n",
       "      <td>0.917077</td>\n",
       "    </tr>\n",
       "    <tr>\n",
       "      <td>1</td>\n",
       "      <td>0.951190</td>\n",
       "      <td>1.751959</td>\n",
       "      <td>0.982156</td>\n",
       "      <td>1.796728</td>\n",
       "    </tr>\n",
       "    <tr>\n",
       "      <td>2</td>\n",
       "      <td>-1.047109</td>\n",
       "      <td>-0.008362</td>\n",
       "      <td>-1.014096</td>\n",
       "      <td>-0.207478</td>\n",
       "    </tr>\n",
       "    <tr>\n",
       "      <td>3</td>\n",
       "      <td>-1.047109</td>\n",
       "      <td>0.626369</td>\n",
       "      <td>-1.014096</td>\n",
       "      <td>-0.532349</td>\n",
       "    </tr>\n",
       "    <tr>\n",
       "      <td>4</td>\n",
       "      <td>0.951190</td>\n",
       "      <td>2.361300</td>\n",
       "      <td>-1.014096</td>\n",
       "      <td>1.146986</td>\n",
       "    </tr>\n",
       "    <tr>\n",
       "      <td>...</td>\n",
       "      <td>...</td>\n",
       "      <td>...</td>\n",
       "      <td>...</td>\n",
       "      <td>...</td>\n",
       "    </tr>\n",
       "    <tr>\n",
       "      <td>245</td>\n",
       "      <td>0.951190</td>\n",
       "      <td>0.609443</td>\n",
       "      <td>0.982156</td>\n",
       "      <td>0.732150</td>\n",
       "    </tr>\n",
       "    <tr>\n",
       "      <td>246</td>\n",
       "      <td>0.951190</td>\n",
       "      <td>0.812557</td>\n",
       "      <td>0.982156</td>\n",
       "      <td>1.261940</td>\n",
       "    </tr>\n",
       "    <tr>\n",
       "      <td>247</td>\n",
       "      <td>0.951190</td>\n",
       "      <td>-0.837743</td>\n",
       "      <td>0.982156</td>\n",
       "      <td>0.947065</td>\n",
       "    </tr>\n",
       "    <tr>\n",
       "      <td>248</td>\n",
       "      <td>0.951190</td>\n",
       "      <td>0.482497</td>\n",
       "      <td>-1.014096</td>\n",
       "      <td>1.027033</td>\n",
       "    </tr>\n",
       "    <tr>\n",
       "      <td>249</td>\n",
       "      <td>-1.047109</td>\n",
       "      <td>-0.109918</td>\n",
       "      <td>-1.014096</td>\n",
       "      <td>-1.486971</td>\n",
       "    </tr>\n",
       "  </tbody>\n",
       "</table>\n",
       "<p>250 rows × 4 columns</p>\n",
       "</div>"
      ],
      "text/plain": [
       "       Gender       Age  1obility  Distance\n",
       "0    0.951190 -0.321495 -1.014096  0.917077\n",
       "1    0.951190  1.751959  0.982156  1.796728\n",
       "2   -1.047109 -0.008362 -1.014096 -0.207478\n",
       "3   -1.047109  0.626369 -1.014096 -0.532349\n",
       "4    0.951190  2.361300 -1.014096  1.146986\n",
       "..        ...       ...       ...       ...\n",
       "245  0.951190  0.609443  0.982156  0.732150\n",
       "246  0.951190  0.812557  0.982156  1.261940\n",
       "247  0.951190 -0.837743  0.982156  0.947065\n",
       "248  0.951190  0.482497 -1.014096  1.027033\n",
       "249 -1.047109 -0.109918 -1.014096 -1.486971\n",
       "\n",
       "[250 rows x 4 columns]"
      ]
     },
     "execution_count": 386,
     "metadata": {},
     "output_type": "execute_result"
    }
   ],
   "source": [
    "x_train"
   ]
  },
  {
   "cell_type": "code",
   "execution_count": 387,
   "metadata": {},
   "outputs": [
    {
     "data": {
      "text/html": [
       "<div>\n",
       "<style scoped>\n",
       "    .dataframe tbody tr th:only-of-type {\n",
       "        vertical-align: middle;\n",
       "    }\n",
       "\n",
       "    .dataframe tbody tr th {\n",
       "        vertical-align: top;\n",
       "    }\n",
       "\n",
       "    .dataframe thead th {\n",
       "        text-align: right;\n",
       "    }\n",
       "</style>\n",
       "<table border=\"1\" class=\"dataframe\">\n",
       "  <thead>\n",
       "    <tr style=\"text-align: right;\">\n",
       "      <th></th>\n",
       "      <th>Gender</th>\n",
       "      <th>Age</th>\n",
       "      <th>1obility</th>\n",
       "      <th>Distance</th>\n",
       "    </tr>\n",
       "  </thead>\n",
       "  <tbody>\n",
       "    <tr>\n",
       "      <td>250</td>\n",
       "      <td>0.921110</td>\n",
       "      <td>-0.491333</td>\n",
       "      <td>-0.842306</td>\n",
       "      <td>-0.479390</td>\n",
       "    </tr>\n",
       "    <tr>\n",
       "      <td>251</td>\n",
       "      <td>-1.081304</td>\n",
       "      <td>-0.294210</td>\n",
       "      <td>-0.842306</td>\n",
       "      <td>2.367394</td>\n",
       "    </tr>\n",
       "    <tr>\n",
       "      <td>252</td>\n",
       "      <td>-1.081304</td>\n",
       "      <td>-2.205445</td>\n",
       "      <td>1.182468</td>\n",
       "      <td>-1.264349</td>\n",
       "    </tr>\n",
       "    <tr>\n",
       "      <td>253</td>\n",
       "      <td>-1.081304</td>\n",
       "      <td>-0.071376</td>\n",
       "      <td>-0.842306</td>\n",
       "      <td>0.692815</td>\n",
       "    </tr>\n",
       "    <tr>\n",
       "      <td>254</td>\n",
       "      <td>0.921110</td>\n",
       "      <td>0.408576</td>\n",
       "      <td>-0.842306</td>\n",
       "      <td>1.728960</td>\n",
       "    </tr>\n",
       "    <tr>\n",
       "      <td>...</td>\n",
       "      <td>...</td>\n",
       "      <td>...</td>\n",
       "      <td>...</td>\n",
       "      <td>...</td>\n",
       "    </tr>\n",
       "    <tr>\n",
       "      <td>495</td>\n",
       "      <td>0.921110</td>\n",
       "      <td>0.708545</td>\n",
       "      <td>1.182468</td>\n",
       "      <td>0.336967</td>\n",
       "    </tr>\n",
       "    <tr>\n",
       "      <td>496</td>\n",
       "      <td>0.921110</td>\n",
       "      <td>-0.405627</td>\n",
       "      <td>1.182468</td>\n",
       "      <td>-0.390428</td>\n",
       "    </tr>\n",
       "    <tr>\n",
       "      <td>497</td>\n",
       "      <td>0.921110</td>\n",
       "      <td>-0.834155</td>\n",
       "      <td>-0.842306</td>\n",
       "      <td>-0.625916</td>\n",
       "    </tr>\n",
       "    <tr>\n",
       "      <td>498</td>\n",
       "      <td>0.921110</td>\n",
       "      <td>1.822718</td>\n",
       "      <td>-0.842306</td>\n",
       "      <td>-1.300980</td>\n",
       "    </tr>\n",
       "    <tr>\n",
       "      <td>499</td>\n",
       "      <td>0.921110</td>\n",
       "      <td>0.622840</td>\n",
       "      <td>1.182468</td>\n",
       "      <td>0.263704</td>\n",
       "    </tr>\n",
       "  </tbody>\n",
       "</table>\n",
       "<p>250 rows × 4 columns</p>\n",
       "</div>"
      ],
      "text/plain": [
       "       Gender       Age  1obility  Distance\n",
       "250  0.921110 -0.491333 -0.842306 -0.479390\n",
       "251 -1.081304 -0.294210 -0.842306  2.367394\n",
       "252 -1.081304 -2.205445  1.182468 -1.264349\n",
       "253 -1.081304 -0.071376 -0.842306  0.692815\n",
       "254  0.921110  0.408576 -0.842306  1.728960\n",
       "..        ...       ...       ...       ...\n",
       "495  0.921110  0.708545  1.182468  0.336967\n",
       "496  0.921110 -0.405627  1.182468 -0.390428\n",
       "497  0.921110 -0.834155 -0.842306 -0.625916\n",
       "498  0.921110  1.822718 -0.842306 -1.300980\n",
       "499  0.921110  0.622840  1.182468  0.263704\n",
       "\n",
       "[250 rows x 4 columns]"
      ]
     },
     "execution_count": 387,
     "metadata": {},
     "output_type": "execute_result"
    }
   ],
   "source": [
    "x_test"
   ]
  },
  {
   "cell_type": "code",
   "execution_count": 388,
   "metadata": {},
   "outputs": [
    {
     "data": {
      "text/plain": [
       "0      0\n",
       "1      0\n",
       "2      1\n",
       "3      0\n",
       "4      0\n",
       "      ..\n",
       "245    0\n",
       "246    0\n",
       "247    0\n",
       "248    0\n",
       "249    0\n",
       "Name: Participation, Length: 250, dtype: int64"
      ]
     },
     "execution_count": 388,
     "metadata": {},
     "output_type": "execute_result"
    }
   ],
   "source": [
    "y_train"
   ]
  },
  {
   "cell_type": "code",
   "execution_count": 389,
   "metadata": {},
   "outputs": [
    {
     "data": {
      "text/plain": [
       "250    1\n",
       "251    0\n",
       "252    1\n",
       "253    0\n",
       "254    0\n",
       "      ..\n",
       "495    1\n",
       "496    1\n",
       "497    1\n",
       "498    0\n",
       "499    1\n",
       "Name: Participation, Length: 250, dtype: int64"
      ]
     },
     "execution_count": 389,
     "metadata": {},
     "output_type": "execute_result"
    }
   ],
   "source": [
    "y_test"
   ]
  },
  {
   "cell_type": "code",
   "execution_count": null,
   "metadata": {},
   "outputs": [],
   "source": []
  },
  {
   "cell_type": "code",
   "execution_count": null,
   "metadata": {},
   "outputs": [],
   "source": []
  },
  {
   "cell_type": "code",
   "execution_count": 310,
   "metadata": {
    "collapsed": true
   },
   "outputs": [
    {
     "data": {
      "text/plain": [
       "250    1\n",
       "251    0\n",
       "252    1\n",
       "253    0\n",
       "254    0\n",
       "Name: Participation, dtype: int64"
      ]
     },
     "execution_count": 310,
     "metadata": {},
     "output_type": "execute_result"
    }
   ],
   "source": [
    "y_test.head()"
   ]
  },
  {
   "cell_type": "code",
   "execution_count": 322,
   "metadata": {
    "collapsed": true
   },
   "outputs": [
    {
     "data": {
      "text/plain": [
       "(250,)"
      ]
     },
     "execution_count": 322,
     "metadata": {},
     "output_type": "execute_result"
    }
   ],
   "source": [
    "x_test.shape"
   ]
  },
  {
   "cell_type": "code",
   "execution_count": 410,
   "metadata": {},
   "outputs": [],
   "source": [
    "model = Sequential()\n",
    "model.add(Dense(180, activation='relu', input_shape=(x_train.shape[1],)))\n",
    "model.add(Dense(1)) \n",
    "model.compile(optimizer='adam', loss='mse', metrics=['mae'])"
   ]
  },
  {
   "cell_type": "code",
   "execution_count": 411,
   "metadata": {},
   "outputs": [
    {
     "name": "stdout",
     "output_type": "stream",
     "text": [
      "Epoch 1/70\n",
      " - 1s - loss: 0.1772 - mae: 0.3378\n",
      "Epoch 2/70\n",
      " - 1s - loss: 0.1358 - mae: 0.2935\n",
      "Epoch 3/70\n",
      " - 1s - loss: 0.1224 - mae: 0.2681\n",
      "Epoch 4/70\n",
      " - 1s - loss: 0.1154 - mae: 0.2674\n",
      "Epoch 5/70\n",
      " - 1s - loss: 0.1146 - mae: 0.2573\n",
      "Epoch 6/70\n",
      " - 1s - loss: 0.1077 - mae: 0.2554\n",
      "Epoch 7/70\n",
      " - 1s - loss: 0.1049 - mae: 0.2536\n",
      "Epoch 8/70\n",
      " - 1s - loss: 0.1006 - mae: 0.2412\n",
      "Epoch 9/70\n",
      " - 1s - loss: 0.0998 - mae: 0.2404\n",
      "Epoch 10/70\n",
      " - 1s - loss: 0.0920 - mae: 0.2237\n",
      "Epoch 11/70\n",
      " - 1s - loss: 0.0910 - mae: 0.2290\n",
      "Epoch 12/70\n",
      " - 1s - loss: 0.0860 - mae: 0.2102\n",
      "Epoch 13/70\n",
      " - 1s - loss: 0.0885 - mae: 0.2268\n",
      "Epoch 14/70\n",
      " - 1s - loss: 0.0853 - mae: 0.2137\n",
      "Epoch 15/70\n",
      " - 1s - loss: 0.0851 - mae: 0.2096\n",
      "Epoch 16/70\n",
      " - 1s - loss: 0.0834 - mae: 0.2082\n",
      "Epoch 17/70\n",
      " - 1s - loss: 0.0838 - mae: 0.2173\n",
      "Epoch 18/70\n",
      " - 1s - loss: 0.0836 - mae: 0.2120\n",
      "Epoch 19/70\n",
      " - 1s - loss: 0.0789 - mae: 0.2023\n",
      "Epoch 20/70\n",
      " - 1s - loss: 0.0780 - mae: 0.2017\n",
      "Epoch 21/70\n",
      " - 1s - loss: 0.0774 - mae: 0.2004\n",
      "Epoch 22/70\n",
      " - 1s - loss: 0.0792 - mae: 0.1994\n",
      "Epoch 23/70\n",
      " - 1s - loss: 0.0792 - mae: 0.1951\n",
      "Epoch 24/70\n",
      " - 1s - loss: 0.0767 - mae: 0.1914\n",
      "Epoch 25/70\n",
      " - 1s - loss: 0.0759 - mae: 0.1987\n",
      "Epoch 26/70\n",
      " - 1s - loss: 0.0734 - mae: 0.1861\n",
      "Epoch 27/70\n",
      " - 1s - loss: 0.0750 - mae: 0.1867\n",
      "Epoch 28/70\n",
      " - 1s - loss: 0.0715 - mae: 0.1846\n",
      "Epoch 29/70\n",
      " - 1s - loss: 0.0710 - mae: 0.1865\n",
      "Epoch 30/70\n",
      " - 1s - loss: 0.0733 - mae: 0.1833\n",
      "Epoch 31/70\n",
      " - 1s - loss: 0.0703 - mae: 0.1823\n",
      "Epoch 32/70\n",
      " - 1s - loss: 0.0694 - mae: 0.1786\n",
      "Epoch 33/70\n",
      " - 1s - loss: 0.0675 - mae: 0.1700\n",
      "Epoch 34/70\n",
      " - 1s - loss: 0.0700 - mae: 0.1882\n",
      "Epoch 35/70\n",
      " - 1s - loss: 0.0710 - mae: 0.1786\n",
      "Epoch 36/70\n",
      " - 1s - loss: 0.0683 - mae: 0.1730\n",
      "Epoch 37/70\n",
      " - 1s - loss: 0.0688 - mae: 0.1734\n",
      "Epoch 38/70\n",
      " - 1s - loss: 0.0658 - mae: 0.1742\n",
      "Epoch 39/70\n",
      " - 1s - loss: 0.0656 - mae: 0.1762\n",
      "Epoch 40/70\n",
      " - 1s - loss: 0.0676 - mae: 0.1777\n",
      "Epoch 41/70\n",
      " - 1s - loss: 0.0669 - mae: 0.1711\n",
      "Epoch 42/70\n",
      " - 1s - loss: 0.0661 - mae: 0.1694\n",
      "Epoch 43/70\n",
      " - 1s - loss: 0.0646 - mae: 0.1721\n",
      "Epoch 44/70\n",
      " - 1s - loss: 0.0674 - mae: 0.1773\n",
      "Epoch 45/70\n",
      " - 1s - loss: 0.0627 - mae: 0.1627\n",
      "Epoch 46/70\n",
      " - 1s - loss: 0.0631 - mae: 0.1642\n",
      "Epoch 47/70\n",
      " - 1s - loss: 0.0619 - mae: 0.1752\n",
      "Epoch 48/70\n",
      " - 1s - loss: 0.0618 - mae: 0.1578\n",
      "Epoch 49/70\n",
      " - 1s - loss: 0.0650 - mae: 0.1685\n",
      "Epoch 50/70\n",
      " - 1s - loss: 0.0642 - mae: 0.1720\n",
      "Epoch 51/70\n",
      " - 1s - loss: 0.0623 - mae: 0.1692\n",
      "Epoch 52/70\n",
      " - 1s - loss: 0.0629 - mae: 0.1611\n",
      "Epoch 53/70\n",
      " - 1s - loss: 0.0634 - mae: 0.1717\n",
      "Epoch 54/70\n",
      " - 1s - loss: 0.0617 - mae: 0.1641\n",
      "Epoch 55/70\n",
      " - 1s - loss: 0.0631 - mae: 0.1652\n",
      "Epoch 56/70\n",
      " - 1s - loss: 0.0609 - mae: 0.1674\n",
      "Epoch 57/70\n",
      " - 1s - loss: 0.0647 - mae: 0.1677\n",
      "Epoch 58/70\n",
      " - 1s - loss: 0.0620 - mae: 0.1629\n",
      "Epoch 59/70\n",
      " - 1s - loss: 0.0588 - mae: 0.1533\n",
      "Epoch 60/70\n",
      " - 1s - loss: 0.0597 - mae: 0.1655\n",
      "Epoch 61/70\n",
      " - 1s - loss: 0.0609 - mae: 0.1618\n",
      "Epoch 62/70\n",
      " - 1s - loss: 0.0617 - mae: 0.1616\n",
      "Epoch 63/70\n",
      " - 1s - loss: 0.0606 - mae: 0.1631\n",
      "Epoch 64/70\n",
      " - 1s - loss: 0.0602 - mae: 0.1666\n",
      "Epoch 65/70\n",
      " - 1s - loss: 0.0586 - mae: 0.1527\n",
      "Epoch 66/70\n",
      " - 1s - loss: 0.0592 - mae: 0.1583\n",
      "Epoch 67/70\n",
      " - 1s - loss: 0.0585 - mae: 0.1589\n",
      "Epoch 68/70\n",
      " - 1s - loss: 0.0553 - mae: 0.1503\n",
      "Epoch 69/70\n",
      " - 1s - loss: 0.0598 - mae: 0.1611\n",
      "Epoch 70/70\n",
      " - 1s - loss: 0.0559 - mae: 0.1532\n"
     ]
    },
    {
     "data": {
      "text/plain": [
       "<keras.callbacks.callbacks.History at 0x18923d7d208>"
      ]
     },
     "execution_count": 411,
     "metadata": {},
     "output_type": "execute_result"
    }
   ],
   "source": [
    "model.fit(x_train, y_train, epochs=70, batch_size=1, verbose=2)"
   ]
  },
  {
   "cell_type": "code",
   "execution_count": 412,
   "metadata": {},
   "outputs": [],
   "source": [
    "mse, mae = model.evaluate(x_test, y_test, verbose=0)"
   ]
  },
  {
   "cell_type": "code",
   "execution_count": 414,
   "metadata": {},
   "outputs": [
    {
     "name": "stdout",
     "output_type": "stream",
     "text": [
      "Средняя абсолютная ошибка (х): 0.23155421018600464\n"
     ]
    }
   ],
   "source": [
    "print(\"Средняя абсолютная ошибка (х):\", mae)"
   ]
  },
  {
   "cell_type": "code",
   "execution_count": 415,
   "metadata": {},
   "outputs": [],
   "source": [
    "pred = model.predict(x_test)"
   ]
  },
  {
   "cell_type": "code",
   "execution_count": 416,
   "metadata": {
    "scrolled": true
   },
   "outputs": [
    {
     "ename": "SyntaxError",
     "evalue": "unexpected EOF while parsing (<ipython-input-416-ed242ec39d50>, line 1)",
     "output_type": "error",
     "traceback": [
      "\u001b[1;36m  File \u001b[1;32m\"<ipython-input-416-ed242ec39d50>\"\u001b[1;36m, line \u001b[1;32m1\u001b[0m\n\u001b[1;33m    print(\"Предсказанная стоимость:\", pred[0], \", правильная стоимость:\\n\", y_test[0]\u001b[0m\n\u001b[1;37m                                                                                     ^\u001b[0m\n\u001b[1;31mSyntaxError\u001b[0m\u001b[1;31m:\u001b[0m unexpected EOF while parsing\n"
     ]
    }
   ],
   "source": [
    "print(\"Предсказанная стоимость:\", pred[0], \", правильная стоимость:\\n\", y_test[0]"
   ]
  },
  {
   "cell_type": "code",
   "execution_count": 424,
   "metadata": {},
   "outputs": [
    {
     "data": {
      "text/plain": [
       "306    1\n",
       "307    1\n",
       "308    0\n",
       "309    0\n",
       "Name: Participation, dtype: int64"
      ]
     },
     "execution_count": 424,
     "metadata": {},
     "output_type": "execute_result"
    }
   ],
   "source": [
    "y_test[56:60]"
   ]
  },
  {
   "cell_type": "code",
   "execution_count": 425,
   "metadata": {},
   "outputs": [
    {
     "data": {
      "text/plain": [
       "array([[ 0.8309275 ],\n",
       "       [ 0.9273824 ],\n",
       "       [-0.16445439],\n",
       "       [ 0.08088794]], dtype=float32)"
      ]
     },
     "execution_count": 425,
     "metadata": {},
     "output_type": "execute_result"
    }
   ],
   "source": [
    "pred[56:60]"
   ]
  },
  {
   "cell_type": "code",
   "execution_count": 399,
   "metadata": {},
   "outputs": [
    {
     "name": "stdout",
     "output_type": "stream",
     "text": [
      "[0.8053435]\n",
      "[-0.12498055]\n",
      "[0.9390417]\n",
      "[-0.00151011]\n",
      "[-0.00311724]\n"
     ]
    }
   ],
   "source": [
    "print(pred[0])\n",
    "print(pred[1])\n",
    "print(pred[2])\n",
    "print(pred[3])\n",
    "print(pred[4])"
   ]
  },
  {
   "cell_type": "code",
   "execution_count": 93,
   "metadata": {
    "collapsed": true
   },
   "outputs": [
    {
     "name": "stdout",
     "output_type": "stream",
     "text": [
      "<class 'numpy.ndarray'> <class 'pandas.core.frame.DataFrame'>\n"
     ]
    }
   ],
   "source": [
    "print(type(pred),type(x_test))"
   ]
  },
  {
   "cell_type": "code",
   "execution_count": null,
   "metadata": {},
   "outputs": [],
   "source": []
  },
  {
   "cell_type": "code",
   "execution_count": 147,
   "metadata": {
    "collapsed": true
   },
   "outputs": [
    {
     "data": {
      "text/html": [
       "<div>\n",
       "<style scoped>\n",
       "    .dataframe tbody tr th:only-of-type {\n",
       "        vertical-align: middle;\n",
       "    }\n",
       "\n",
       "    .dataframe tbody tr th {\n",
       "        vertical-align: top;\n",
       "    }\n",
       "\n",
       "    .dataframe thead th {\n",
       "        text-align: right;\n",
       "    }\n",
       "</style>\n",
       "<table border=\"1\" class=\"dataframe\">\n",
       "  <thead>\n",
       "    <tr style=\"text-align: right;\">\n",
       "      <th></th>\n",
       "      <th>Gender</th>\n",
       "      <th>Age</th>\n",
       "      <th>1obility</th>\n",
       "      <th>Distance</th>\n",
       "      <th>Participation</th>\n",
       "    </tr>\n",
       "  </thead>\n",
       "  <tbody>\n",
       "    <tr>\n",
       "      <td>250</td>\n",
       "      <td>0.964334</td>\n",
       "      <td>-0.338977</td>\n",
       "      <td>-1.097494</td>\n",
       "      <td>-0.466541</td>\n",
       "      <td>1.045376</td>\n",
       "    </tr>\n",
       "    <tr>\n",
       "      <td>251</td>\n",
       "      <td>-1.028623</td>\n",
       "      <td>-0.153383</td>\n",
       "      <td>-1.097494</td>\n",
       "      <td>2.239943</td>\n",
       "      <td>-0.948879</td>\n",
       "    </tr>\n",
       "    <tr>\n",
       "      <td>252</td>\n",
       "      <td>-1.028623</td>\n",
       "      <td>-1.952846</td>\n",
       "      <td>0.903819</td>\n",
       "      <td>-1.212814</td>\n",
       "      <td>1.045376</td>\n",
       "    </tr>\n",
       "    <tr>\n",
       "      <td>253</td>\n",
       "      <td>-1.028623</td>\n",
       "      <td>0.056420</td>\n",
       "      <td>-1.097494</td>\n",
       "      <td>0.647893</td>\n",
       "      <td>-0.948879</td>\n",
       "    </tr>\n",
       "    <tr>\n",
       "      <td>254</td>\n",
       "      <td>0.964334</td>\n",
       "      <td>0.508303</td>\n",
       "      <td>-1.097494</td>\n",
       "      <td>1.632974</td>\n",
       "      <td>-0.948879</td>\n",
       "    </tr>\n",
       "  </tbody>\n",
       "</table>\n",
       "</div>"
      ],
      "text/plain": [
       "       Gender       Age  1obility  Distance  Participation\n",
       "250  0.964334 -0.338977 -1.097494 -0.466541       1.045376\n",
       "251 -1.028623 -0.153383 -1.097494  2.239943      -0.948879\n",
       "252 -1.028623 -1.952846  0.903819 -1.212814       1.045376\n",
       "253 -1.028623  0.056420 -1.097494  0.647893      -0.948879\n",
       "254  0.964334  0.508303 -1.097494  1.632974      -0.948879"
      ]
     },
     "execution_count": 147,
     "metadata": {},
     "output_type": "execute_result"
    }
   ],
   "source": [
    "x_test.head()"
   ]
  },
  {
   "cell_type": "code",
   "execution_count": null,
   "metadata": {},
   "outputs": [],
   "source": []
  },
  {
   "cell_type": "code",
   "execution_count": 102,
   "metadata": {
    "collapsed": true
   },
   "outputs": [
    {
     "data": {
      "text/plain": [
       "0.1667861"
      ]
     },
     "execution_count": 102,
     "metadata": {},
     "output_type": "execute_result"
    }
   ],
   "source": [
    "pred[1][4]"
   ]
  },
  {
   "cell_type": "code",
   "execution_count": null,
   "metadata": {},
   "outputs": [],
   "source": []
  },
  {
   "cell_type": "code",
   "execution_count": 101,
   "metadata": {
    "collapsed": true
   },
   "outputs": [
    {
     "data": {
      "text/plain": [
       "0.16983457"
      ]
     },
     "execution_count": 101,
     "metadata": {},
     "output_type": "execute_result"
    }
   ],
   "source": [
    "pred[100][4]"
   ]
  },
  {
   "cell_type": "code",
   "execution_count": null,
   "metadata": {},
   "outputs": [],
   "source": []
  },
  {
   "cell_type": "code",
   "execution_count": 99,
   "metadata": {
    "collapsed": true
   },
   "outputs": [
    {
     "data": {
      "text/plain": [
       "0.4154752"
      ]
     },
     "execution_count": 99,
     "metadata": {},
     "output_type": "execute_result"
    }
   ],
   "source": [
    "pred[20][4]"
   ]
  },
  {
   "cell_type": "code",
   "execution_count": 121,
   "metadata": {
    "collapsed": true
   },
   "outputs": [
    {
     "name": "stdout",
     "output_type": "stream",
     "text": [
      "0.17548436\n",
      "0.1667861\n",
      "0.44955176\n",
      "0.20561111\n",
      "0.17406732\n",
      "0.47273374\n"
     ]
    }
   ],
   "source": [
    "print(pred[0][4])\n",
    "print(pred[1][4])\n",
    "print(pred[2][4])\n",
    "print(pred[3][4])\n",
    "print(pred[4][4])\n",
    "print(pred[5][4])\n",
    "\n"
   ]
  },
  {
   "cell_type": "code",
   "execution_count": 173,
   "metadata": {},
   "outputs": [
    {
     "name": "stdout",
     "output_type": "stream",
     "text": [
      "0.17548436\n",
      "0.1667861\n",
      "0.44955176\n",
      "0.20561111\n",
      "0.17406732\n"
     ]
    }
   ],
   "source": [
    "print(pred[0][4], )\n",
    "print(pred[1][4])\n",
    "print(pred[2][4])\n",
    "print(pred[3][4])\n",
    "print(pred[4][4])\n"
   ]
  },
  {
   "cell_type": "code",
   "execution_count": 174,
   "metadata": {
    "collapsed": true
   },
   "outputs": [
    {
     "data": {
      "text/plain": [
       "250    1.045376\n",
       "251   -0.948879\n",
       "252    1.045376\n",
       "253   -0.948879\n",
       "254   -0.948879\n",
       "255   -0.948879\n",
       "256   -0.948879\n",
       "257    1.045376\n",
       "258   -0.948879\n",
       "259   -0.948879\n",
       "Name: Participation, dtype: float64"
      ]
     },
     "execution_count": 174,
     "metadata": {},
     "output_type": "execute_result"
    }
   ],
   "source": [
    "x_test['Participation'][:10]"
   ]
  },
  {
   "cell_type": "code",
   "execution_count": 180,
   "metadata": {
    "collapsed": true
   },
   "outputs": [
    {
     "data": {
      "text/plain": [
       "375    0\n",
       "376    1\n",
       "377    1\n",
       "378    1\n",
       "379    1\n",
       "      ..\n",
       "494    0\n",
       "495    1\n",
       "496    1\n",
       "497    1\n",
       "498    0\n",
       "Name: Participation, Length: 124, dtype: int64"
      ]
     },
     "execution_count": 180,
     "metadata": {},
     "output_type": "execute_result"
    }
   ],
   "source": [
    "y_test['Participation'][:]"
   ]
  },
  {
   "cell_type": "code",
   "execution_count": 170,
   "metadata": {
    "collapsed": true
   },
   "outputs": [
    {
     "data": {
      "text/plain": [
       "0.5721145"
      ]
     },
     "execution_count": 170,
     "metadata": {},
     "output_type": "execute_result"
    }
   ],
   "source": [
    "pred[101][4]\n"
   ]
  },
  {
   "cell_type": "code",
   "execution_count": 171,
   "metadata": {
    "collapsed": true
   },
   "outputs": [
    {
     "data": {
      "text/plain": [
       "0.117399275"
      ]
     },
     "execution_count": 171,
     "metadata": {},
     "output_type": "execute_result"
    }
   ],
   "source": [
    "pred[121][4]"
   ]
  }
 ],
 "metadata": {
  "kernelspec": {
   "display_name": "Python 3",
   "language": "python",
   "name": "python3"
  },
  "language_info": {
   "codemirror_mode": {
    "name": "ipython",
    "version": 3
   },
   "file_extension": ".py",
   "mimetype": "text/x-python",
   "name": "python",
   "nbconvert_exporter": "python",
   "pygments_lexer": "ipython3",
   "version": "3.7.4"
  }
 },
 "nbformat": 4,
 "nbformat_minor": 2
}
